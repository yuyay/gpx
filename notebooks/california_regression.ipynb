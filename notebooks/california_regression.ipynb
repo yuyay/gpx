{
 "cells": [
  {
   "cell_type": "markdown",
   "metadata": {},
   "source": [
    "# Regression on California housing price dataset (tabular data)\n"
   ]
  },
  {
   "cell_type": "markdown",
   "metadata": {},
   "source": [
    "## Evaluation by 5-fold cross validation"
   ]
  },
  {
   "cell_type": "code",
   "execution_count": 3,
   "metadata": {},
   "outputs": [
    {
     "name": "stdout",
     "output_type": "stream",
     "text": [
      "Fold 0: test MSE = 0.308106460398501\n",
      "Fold 1: test MSE = 0.15165243121111743\n",
      "Fold 2: test MSE = 0.19990614196925624\n",
      "Fold 3: test MSE = 0.165282901644986\n",
      "Fold 4: test MSE = 0.1508940922820767\n",
      "Avg. MSE = 0.19516840550118747 (S.D. = 0.059202109018186955)\n"
     ]
    }
   ],
   "source": [
    "import numpy as np\n",
    "from sklearn.datasets import fetch_california_housing\n",
    "from sklearn.preprocessing import scale, minmax_scale\n",
    "from sklearn.model_selection import KFold\n",
    "from sklearn.metrics import mean_squared_error\n",
    "\n",
    "from gpx import GPXRegressor\n",
    "\n",
    "X, y = map(lambda x: scale(x), fetch_california_housing(return_X_y=True))\n",
    "X, y = X[:1000], y[:1000]  # Use a subset for a quick experiment\n",
    "\n",
    "# cross validate\n",
    "kf = KFold(n_splits=5, shuffle=True, random_state=0)\n",
    "scores = []\n",
    "for i, (train_indices, test_indices) in enumerate(kf.split(X, y)):\n",
    "    X_tr, X_te = X[train_indices], X[test_indices]\n",
    "    y_tr, y_te = y[train_indices], y[test_indices]\n",
    "    Z_tr, Z_te = X_tr, X_te\n",
    "\n",
    "    model = GPXRegressor(verbose=False).fit(X_tr, y_tr, Z_tr)\n",
    "    y_mean, y_cov, w_mean, w_cov = model.predict(X_te, Z_te, return_weights=True)\n",
    "    mse = mean_squared_error(y_te, y_mean)\n",
    "    scores.append(mse)\n",
    "    print(\"Fold {}: test MSE = {}\".format(i, mse))\n",
    "print(\"Avg. MSE = {} (S.D. = {})\".format(np.mean(scores), np.std(scores)))"
   ]
  },
  {
   "cell_type": "markdown",
   "metadata": {},
   "source": [
    "## Visualization of weights with uncertainty"
   ]
  },
  {
   "cell_type": "code",
   "execution_count": 10,
   "metadata": {
    "tags": []
   },
   "outputs": [
    {
     "data": {
      "image/png": "[encoded data removed]",
      "text/plain": [
       "<Figure size 360x288 with 1 Axes>"
      ]
     },
     "metadata": {
      "needs_background": "light"
     },
     "output_type": "display_data"
    }
   ],
   "source": [
    "import matplotlib.pyplot as plt\n",
    "\n",
    "def visualize(z, y_gt, Ey, Vy, Ew, Vw, features):\n",
    "    fig = plt.figure(figsize=(5, 4), tight_layout=True)\n",
    "\n",
    "    width = Ew * z\n",
    "    xerr = np.sqrt(z**2 * np.diag(Vw))\n",
    "    color = np.where(width >= 0, \"red\", \"blue\")\n",
    "    yticks = [\"{0}({1:0.2f})\".format(name, z[idx]) for idx, name in enumerate(features)]\n",
    "    y_index = range(len(yticks) - 1, -1, -1)\n",
    "    y_conf = np.sqrt(Vy)\n",
    "    plt.barh(y_index, width, xerr=xerr, color=color, ecolor=\"grey\")\n",
    "    plt.yticks(y_index, yticks)\n",
    "    plt.title(\n",
    "        \"$y_\\mathrm{{True}}$ = {0:0.2f}, $y_\\mathrm{{Pred}}$ = {1:0.2f} $\\pm$ {2:0.2f}\".format(y_gt, Ey, y_conf),\n",
    "        fontdict={\"fontsize\": \"medium\"})\n",
    "    plt.xlabel(\"Contribution to prediction\")\n",
    "    plt.ylabel(\"Feature name (its own value)\")\n",
    "    plt.show()\n",
    "\n",
    "features = fetch_california_housing().feature_names\n",
    "visualize(Z_te[0], y_te[0], y_mean[0], y_cov[0, 0], w_mean[0], w_cov[0], features)"
   ]
  }
 ],
 "metadata": {
  "interpreter": {
   "hash": "d0e09249072cb3372d18d74459618481b3bfcd6db268c56fe0e1036134df2617"
  },
  "kernelspec": {
   "display_name": "Python 3.7.7 64-bit ('gpx': conda)",
   "language": "python",
   "name": "python3"
  },
  "language_info": {
   "codemirror_mode": {
    "name": "ipython",
    "version": 3
   },
   "file_extension": ".py",
   "mimetype": "text/x-python",
   "name": "python",
   "nbconvert_exporter": "python",
   "pygments_lexer": "ipython3",
   "version": "3.7.11"
  },
  "orig_nbformat": 2
 },
 "nbformat": 4,
 "nbformat_minor": 2
}
